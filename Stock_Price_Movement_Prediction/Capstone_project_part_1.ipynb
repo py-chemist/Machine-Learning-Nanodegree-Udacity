{
 "cells": [
  {
   "cell_type": "markdown",
   "metadata": {},
   "source": [
    "#### Importing required libraries"
   ]
  },
  {
   "cell_type": "code",
   "execution_count": 1,
   "metadata": {
    "collapsed": true
   },
   "outputs": [],
   "source": [
    "import pandas as pd\n",
    "import numpy as np\n",
    "import matplotlib.pyplot as plt\n",
    "plt.style.use('bmh')\n",
    "import pandas_datareader.data as web"
   ]
  },
  {
   "cell_type": "code",
   "execution_count": 2,
   "metadata": {
    "collapsed": true
   },
   "outputs": [],
   "source": [
    "# Aquiring historical data of Amazon from Yahoo\n",
    "\n",
    "amzn = web.DataReader(\"AMZN\", \"yahoo\")"
   ]
  },
  {
   "cell_type": "markdown",
   "metadata": {},
   "source": [
    "#### Before doing any of machine learning, let's explore the data"
   ]
  },
  {
   "cell_type": "code",
   "execution_count": 3,
   "metadata": {
    "collapsed": false
   },
   "outputs": [
    {
     "data": {
      "text/html": [
       "<div>\n",
       "<table border=\"1\" class=\"dataframe\">\n",
       "  <thead>\n",
       "    <tr style=\"text-align: right;\">\n",
       "      <th></th>\n",
       "      <th>Open</th>\n",
       "      <th>High</th>\n",
       "      <th>Low</th>\n",
       "      <th>Close</th>\n",
       "      <th>Volume</th>\n",
       "      <th>Adj Close</th>\n",
       "    </tr>\n",
       "  </thead>\n",
       "  <tbody>\n",
       "    <tr>\n",
       "      <th>count</th>\n",
       "      <td>1832.000000</td>\n",
       "      <td>1832.000000</td>\n",
       "      <td>1832.000000</td>\n",
       "      <td>1832.000000</td>\n",
       "      <td>1.832000e+03</td>\n",
       "      <td>1832.000000</td>\n",
       "    </tr>\n",
       "    <tr>\n",
       "      <th>mean</th>\n",
       "      <td>357.045824</td>\n",
       "      <td>360.703946</td>\n",
       "      <td>353.108815</td>\n",
       "      <td>357.129547</td>\n",
       "      <td>4.560130e+06</td>\n",
       "      <td>357.129547</td>\n",
       "    </tr>\n",
       "    <tr>\n",
       "      <th>std</th>\n",
       "      <td>209.189898</td>\n",
       "      <td>210.421236</td>\n",
       "      <td>207.690083</td>\n",
       "      <td>209.162172</td>\n",
       "      <td>3.054296e+06</td>\n",
       "      <td>209.162172</td>\n",
       "    </tr>\n",
       "    <tr>\n",
       "      <th>min</th>\n",
       "      <td>105.930000</td>\n",
       "      <td>111.290001</td>\n",
       "      <td>105.800003</td>\n",
       "      <td>108.610001</td>\n",
       "      <td>9.844000e+05</td>\n",
       "      <td>108.610001</td>\n",
       "    </tr>\n",
       "    <tr>\n",
       "      <th>25%</th>\n",
       "      <td>194.759995</td>\n",
       "      <td>197.282493</td>\n",
       "      <td>191.965004</td>\n",
       "      <td>195.062503</td>\n",
       "      <td>2.724025e+06</td>\n",
       "      <td>195.062503</td>\n",
       "    </tr>\n",
       "    <tr>\n",
       "      <th>50%</th>\n",
       "      <td>295.159988</td>\n",
       "      <td>298.880005</td>\n",
       "      <td>290.735000</td>\n",
       "      <td>295.240005</td>\n",
       "      <td>3.815850e+06</td>\n",
       "      <td>295.240005</td>\n",
       "    </tr>\n",
       "    <tr>\n",
       "      <th>75%</th>\n",
       "      <td>434.919998</td>\n",
       "      <td>438.762504</td>\n",
       "      <td>431.394996</td>\n",
       "      <td>434.522515</td>\n",
       "      <td>5.331400e+06</td>\n",
       "      <td>434.522515</td>\n",
       "    </tr>\n",
       "    <tr>\n",
       "      <th>max</th>\n",
       "      <td>913.799988</td>\n",
       "      <td>923.719971</td>\n",
       "      <td>905.619995</td>\n",
       "      <td>909.280029</td>\n",
       "      <td>4.242110e+07</td>\n",
       "      <td>909.280029</td>\n",
       "    </tr>\n",
       "  </tbody>\n",
       "</table>\n",
       "</div>"
      ],
      "text/plain": [
       "              Open         High          Low        Close        Volume  \\\n",
       "count  1832.000000  1832.000000  1832.000000  1832.000000  1.832000e+03   \n",
       "mean    357.045824   360.703946   353.108815   357.129547  4.560130e+06   \n",
       "std     209.189898   210.421236   207.690083   209.162172  3.054296e+06   \n",
       "min     105.930000   111.290001   105.800003   108.610001  9.844000e+05   \n",
       "25%     194.759995   197.282493   191.965004   195.062503  2.724025e+06   \n",
       "50%     295.159988   298.880005   290.735000   295.240005  3.815850e+06   \n",
       "75%     434.919998   438.762504   431.394996   434.522515  5.331400e+06   \n",
       "max     913.799988   923.719971   905.619995   909.280029  4.242110e+07   \n",
       "\n",
       "         Adj Close  \n",
       "count  1832.000000  \n",
       "mean    357.129547  \n",
       "std     209.162172  \n",
       "min     108.610001  \n",
       "25%     195.062503  \n",
       "50%     295.240005  \n",
       "75%     434.522515  \n",
       "max     909.280029  "
      ]
     },
     "execution_count": 3,
     "metadata": {},
     "output_type": "execute_result"
    }
   ],
   "source": [
    "# Statistical information about the historical data\n",
    "\n",
    "amzn.describe()"
   ]
  },
  {
   "cell_type": "code",
   "execution_count": 4,
   "metadata": {
    "collapsed": false
   },
   "outputs": [
    {
     "data": {
      "image/png": "[encoded data removed]",
      "text/plain": [
       "<matplotlib.figure.Figure at 0x7ff1049ed518>"
      ]
     },
     "metadata": {},
     "output_type": "display_data"
    }
   ],
   "source": [
    "# Plotting Close price\n",
    "\n",
    "amzn.Close.plot(figsize=(12, 5))\n",
    "plt.ylabel('Price')\n",
    "plt.show()"
   ]
  },
  {
   "cell_type": "code",
   "execution_count": 5,
   "metadata": {
    "collapsed": false
   },
   "outputs": [],
   "source": [
    "# Let's see how many times the price went up and how many time it went down compare to the previous day\n",
    "\n",
    "amzn['UP/DOWN'] = amzn.Close.diff()[1:]\n",
    "\n",
    "# Dropping NaN\n",
    "\n",
    "amzn.dropna(inplace=True)\n",
    "\n",
    "# Setting 1 if UP/DOWN is > 0, else -1\n",
    "\n",
    "amzn['UP/DOWN'] = amzn['UP/DOWN'].apply(lambda x: 1 if x > 0 else -1)"
   ]
  },
  {
   "cell_type": "code",
   "execution_count": 6,
   "metadata": {
    "collapsed": false
   },
   "outputs": [
    {
     "data": {
      "text/plain": [
       " 1    956\n",
       "-1    875\n",
       "Name: UP/DOWN, dtype: int64"
      ]
     },
     "execution_count": 6,
     "metadata": {},
     "output_type": "execute_result"
    }
   ],
   "source": [
    "# Counting how many 1 and -1\n",
    "\n",
    "amzn[\"UP/DOWN\"].value_counts()"
   ]
  },
  {
   "cell_type": "code",
   "execution_count": 7,
   "metadata": {
    "collapsed": false
   },
   "outputs": [
    {
     "data": {
      "text/plain": [
       " 1    0.522119\n",
       "-1    0.477881\n",
       "Name: UP/DOWN, dtype: float64"
      ]
     },
     "execution_count": 7,
     "metadata": {},
     "output_type": "execute_result"
    }
   ],
   "source": [
    "amzn[\"UP/DOWN\"].value_counts()/amzn[\"UP/DOWN\"].value_counts().sum()"
   ]
  },
  {
   "cell_type": "code",
   "execution_count": 8,
   "metadata": {
    "collapsed": false
   },
   "outputs": [
    {
     "data": {
      "image/png": "[encoded data removed]",
      "text/plain": [
       "<matplotlib.figure.Figure at 0x7ff1040725c0>"
      ]
     },
     "metadata": {},
     "output_type": "display_data"
    }
   ],
   "source": [
    "# plotting the result\n",
    "\n",
    "amzn[\"UP/DOWN\"].value_counts().plot(kind='bar')\n",
    "plt.show()"
   ]
  },
  {
   "cell_type": "code",
   "execution_count": 9,
   "metadata": {
    "collapsed": false
   },
   "outputs": [
    {
     "data": {
      "text/plain": [
       " 1    52.211906\n",
       "-1    47.788094\n",
       "Name: UP/DOWN, dtype: float64"
      ]
     },
     "execution_count": 9,
     "metadata": {},
     "output_type": "execute_result"
    }
   ],
   "source": [
    "# To have a better picture, let's convert numbers into percents\n",
    "\n",
    "amzn[\"UP/DOWN\"].value_counts()/amzn[\"UP/DOWN\"].value_counts().sum()*100"
   ]
  },
  {
   "cell_type": "code",
   "execution_count": 10,
   "metadata": {
    "collapsed": false
   },
   "outputs": [
    {
     "data": {
      "image/png": "[encoded data removed]",
      "text/plain": [
       "<matplotlib.figure.Figure at 0x7ff104175550>"
      ]
     },
     "metadata": {},
     "output_type": "display_data"
    }
   ],
   "source": [
    "# Plotting the data\n",
    "\n",
    "pct_up_down = amzn[\"UP/DOWN\"].value_counts()/amzn[\"UP/DOWN\"].value_counts().sum()*100\n",
    "pct_up_down.plot(kind='bar')\n",
    "plt.show()\n",
    "\n",
    "# As you see, it is almost 50/50"
   ]
  },
  {
   "cell_type": "markdown",
   "metadata": {},
   "source": [
    "It would be interesting to see if there is a correlation between UP or DOWN and a weekday"
   ]
  },
  {
   "cell_type": "code",
   "execution_count": 11,
   "metadata": {
    "collapsed": false
   },
   "outputs": [],
   "source": [
    "# Creating a new column with corresponding weekdays,\n",
    "# where 0: \"Monday\", 1: \"Tuesday\", 2: \"Wednesday\", 3:\"Thursday\", 4:\"Friday\"\n",
    "\n",
    "amzn[\"weekdays\"] = amzn.index.weekday\n",
    "amzn[\"weekdays\"] = amzn[\"weekdays\"].map({0: \"Monday\", 1: \"Tuesday\", 2: \"Wednesday\", 3:\"Thursday\", 4:\"Friday\"})"
   ]
  },
  {
   "cell_type": "code",
   "execution_count": 12,
   "metadata": {
    "collapsed": false
   },
   "outputs": [
    {
     "data": {
      "text/html": [
       "<div>\n",
       "<table border=\"1\" class=\"dataframe\">\n",
       "  <thead>\n",
       "    <tr style=\"text-align: right;\">\n",
       "      <th></th>\n",
       "      <th>Open</th>\n",
       "      <th>High</th>\n",
       "      <th>Low</th>\n",
       "      <th>Close</th>\n",
       "      <th>Volume</th>\n",
       "      <th>Adj Close</th>\n",
       "      <th>UP/DOWN</th>\n",
       "      <th>weekdays</th>\n",
       "    </tr>\n",
       "    <tr>\n",
       "      <th>Date</th>\n",
       "      <th></th>\n",
       "      <th></th>\n",
       "      <th></th>\n",
       "      <th></th>\n",
       "      <th></th>\n",
       "      <th></th>\n",
       "      <th></th>\n",
       "      <th></th>\n",
       "    </tr>\n",
       "  </thead>\n",
       "  <tbody>\n",
       "    <tr>\n",
       "      <th>2017-04-06</th>\n",
       "      <td>913.799988</td>\n",
       "      <td>917.190002</td>\n",
       "      <td>894.489990</td>\n",
       "      <td>898.280029</td>\n",
       "      <td>6331800</td>\n",
       "      <td>898.280029</td>\n",
       "      <td>-1</td>\n",
       "      <td>Thursday</td>\n",
       "    </tr>\n",
       "    <tr>\n",
       "      <th>2017-04-07</th>\n",
       "      <td>899.650024</td>\n",
       "      <td>900.090027</td>\n",
       "      <td>889.309998</td>\n",
       "      <td>894.880005</td>\n",
       "      <td>3695900</td>\n",
       "      <td>894.880005</td>\n",
       "      <td>-1</td>\n",
       "      <td>Friday</td>\n",
       "    </tr>\n",
       "    <tr>\n",
       "      <th>2017-04-10</th>\n",
       "      <td>899.630005</td>\n",
       "      <td>908.510010</td>\n",
       "      <td>899.000000</td>\n",
       "      <td>907.039978</td>\n",
       "      <td>3146600</td>\n",
       "      <td>907.039978</td>\n",
       "      <td>1</td>\n",
       "      <td>Monday</td>\n",
       "    </tr>\n",
       "    <tr>\n",
       "      <th>2017-04-11</th>\n",
       "      <td>907.039978</td>\n",
       "      <td>911.239990</td>\n",
       "      <td>897.500000</td>\n",
       "      <td>902.359985</td>\n",
       "      <td>3005500</td>\n",
       "      <td>902.359985</td>\n",
       "      <td>-1</td>\n",
       "      <td>Tuesday</td>\n",
       "    </tr>\n",
       "    <tr>\n",
       "      <th>2017-04-12</th>\n",
       "      <td>903.090027</td>\n",
       "      <td>904.090027</td>\n",
       "      <td>895.250000</td>\n",
       "      <td>896.229980</td>\n",
       "      <td>2439200</td>\n",
       "      <td>896.229980</td>\n",
       "      <td>-1</td>\n",
       "      <td>Wednesday</td>\n",
       "    </tr>\n",
       "  </tbody>\n",
       "</table>\n",
       "</div>"
      ],
      "text/plain": [
       "                  Open        High         Low       Close   Volume  \\\n",
       "Date                                                                  \n",
       "2017-04-06  913.799988  917.190002  894.489990  898.280029  6331800   \n",
       "2017-04-07  899.650024  900.090027  889.309998  894.880005  3695900   \n",
       "2017-04-10  899.630005  908.510010  899.000000  907.039978  3146600   \n",
       "2017-04-11  907.039978  911.239990  897.500000  902.359985  3005500   \n",
       "2017-04-12  903.090027  904.090027  895.250000  896.229980  2439200   \n",
       "\n",
       "             Adj Close  UP/DOWN   weekdays  \n",
       "Date                                        \n",
       "2017-04-06  898.280029       -1   Thursday  \n",
       "2017-04-07  894.880005       -1     Friday  \n",
       "2017-04-10  907.039978        1     Monday  \n",
       "2017-04-11  902.359985       -1    Tuesday  \n",
       "2017-04-12  896.229980       -1  Wednesday  "
      ]
     },
     "execution_count": 12,
     "metadata": {},
     "output_type": "execute_result"
    }
   ],
   "source": [
    "amzn.tail()"
   ]
  },
  {
   "cell_type": "code",
   "execution_count": 13,
   "metadata": {
    "collapsed": false
   },
   "outputs": [
    {
     "data": {
      "text/plain": [
       "weekdays   UP/DOWN\n",
       "Friday      1         191\n",
       "           -1         176\n",
       "Monday     -1         178\n",
       "            1         163\n",
       "Thursday    1         203\n",
       "           -1         166\n",
       "Tuesday     1         204\n",
       "           -1         173\n",
       "Wednesday   1         195\n",
       "           -1         182\n",
       "Name: UP/DOWN, dtype: int64"
      ]
     },
     "execution_count": 13,
     "metadata": {},
     "output_type": "execute_result"
    }
   ],
   "source": [
    "# Now let's see how many UPs and DOWNs per each day of week\n",
    "\n",
    "amzn.groupby(by='weekdays')['UP/DOWN'].value_counts()"
   ]
  },
  {
   "cell_type": "code",
   "execution_count": 14,
   "metadata": {
    "collapsed": false
   },
   "outputs": [
    {
     "name": "stdout",
     "output_type": "stream",
     "text": [
      "Monday  \t UP: 0.48,  DOWN: 0.52\n",
      "Tuesday  \t UP: 0.54,  DOWN: 0.46\n",
      "Wednesday  \t UP: 0.52,  DOWN: 0.48\n",
      "Thursday  \t UP: 0.55,  DOWN: 0.45\n",
      "Friday  \t UP: 0.52,  DOWN: 0.48\n"
     ]
    }
   ],
   "source": [
    "days = {0: \"Monday\", 1: \"Tuesday\", 2: \"Wednesday\", 3:\"Thursday\", 4:\"Friday\"}\n",
    "\n",
    "for day in range(5):\n",
    "    ups = amzn[(amzn['weekdays']== days[day]) & (amzn['UP/DOWN']== 1)]['UP/DOWN'].count()\n",
    "    downs = amzn[(amzn['weekdays']== days[day]) & (amzn['UP/DOWN']== -1)]['UP/DOWN'].count()\n",
    "    up_ratio = ups / (ups + downs)\n",
    "    down_ratio = downs/(ups + downs)\n",
    "    print('{}  \\t UP: {},  DOWN: {}'.format(days[day], round(up_ratio, 2), round(down_ratio, 2)))"
   ]
  },
  {
   "cell_type": "markdown",
   "metadata": {
    "collapsed": true
   },
   "source": [
    "The results show that chances of the price to go up are higher on Tuesday and Thursday, 54% and 55% which is a liitle\n",
    "better than a random guess(50%)."
   ]
  },
  {
   "cell_type": "markdown",
   "metadata": {},
   "source": [
    "###  Prediction of the Close price with Linear Regression (LR)"
   ]
  },
  {
   "cell_type": "markdown",
   "metadata": {},
   "source": [
    "In this part we will try to predict the Close price based on the Open Price with machine learning. After finding out\n",
    "the Open price in the morning, we can use it as input for our Linear Regression algorithm to predict the Close price. \n",
    "This prediction will help us to decide whether we should buy or sell our shares."
   ]
  },
  {
   "cell_type": "code",
   "execution_count": 15,
   "metadata": {
    "collapsed": true
   },
   "outputs": [],
   "source": [
    "# Getting Open and Close prices only\n",
    "\n",
    "o_c_df = amzn[[\"Open\", \"Close\"]]"
   ]
  },
  {
   "cell_type": "code",
   "execution_count": 16,
   "metadata": {
    "collapsed": false
   },
   "outputs": [],
   "source": [
    "# Splitting the data into training(70%) and testing(30%) sets. We will preserve the sequence of the data\n",
    "\n",
    "x, y = o_c_df[\"Open\"].values, o_c_df[\"Close\"].values\n",
    "\n",
    "split = 0.7\n",
    "n_train = int(o_c_df.shape[0] * split)\n",
    "n_test = o_c_df.shape[0] - n_train\n",
    "\n",
    "x_train, x_test = x[:n_train], x[n_train:]\n",
    "y_train, y_test = y[:n_train], y[n_train:]"
   ]
  },
  {
   "cell_type": "code",
   "execution_count": 17,
   "metadata": {
    "collapsed": false
   },
   "outputs": [
    {
     "data": {
      "text/plain": [
       "((1281,), (550,), (1281,), (550,))"
      ]
     },
     "execution_count": 17,
     "metadata": {},
     "output_type": "execute_result"
    }
   ],
   "source": [
    "x_train.shape, x_test.shape, y_train.shape, y_test.shape"
   ]
  },
  {
   "cell_type": "code",
   "execution_count": 18,
   "metadata": {
    "collapsed": true
   },
   "outputs": [],
   "source": [
    "# Importing libraries\n",
    "\n",
    "from sklearn.linear_model import LinearRegression\n",
    "from sklearn.metrics import r2_score, mean_squared_error, accuracy_score"
   ]
  },
  {
   "cell_type": "code",
   "execution_count": 19,
   "metadata": {
    "collapsed": false
   },
   "outputs": [],
   "source": [
    "# Running machine learning. We need to reshape the data\n",
    "\n",
    "lr = LinearRegression()\n",
    "lr.fit(x_train.reshape(n_train, 1), y_train.reshape(n_train, 1))\n",
    "lr_pred = lr.predict(x_test.reshape(n_test, 1))"
   ]
  },
  {
   "cell_type": "markdown",
   "metadata": {},
   "source": [
    "Since this is a Linear Regression where we are tryng to predict a continuois value, we will use R2_score and RMSE( root-mean-square error) as the metrics of choice."
   ]
  },
  {
   "cell_type": "code",
   "execution_count": 20,
   "metadata": {
    "collapsed": false
   },
   "outputs": [
    {
     "name": "stdout",
     "output_type": "stream",
     "text": [
      "R2 score is: 0.997\n",
      "RMSE is: 8.203\n"
     ]
    }
   ],
   "source": [
    "print(\"R2 score is:\",r2_score(y_test, lr_pred).round(3))\n",
    "print(\"RMSE is:\", np.sqrt(mean_squared_error(y_test, lr_pred)).round(3))"
   ]
  },
  {
   "cell_type": "code",
   "execution_count": 21,
   "metadata": {
    "collapsed": false
   },
   "outputs": [
    {
     "data": {
      "image/png": "[encoded data removed]",
      "text/plain": [
       "<matplotlib.figure.Figure at 0x7ff0f712bdd8>"
      ]
     },
     "metadata": {},
     "output_type": "display_data"
    }
   ],
   "source": [
    "# Let's plot the results\n",
    "\n",
    "plt.figure(figsize=(12, 4))\n",
    "plt.scatter(y_test, y_test, label=\"True y\")\n",
    "plt.scatter(y_test, lr_pred, label=\"Predicted y\")\n",
    "plt.legend()\n",
    "plt.show()"
   ]
  },
  {
   "cell_type": "code",
   "execution_count": 22,
   "metadata": {
    "collapsed": false
   },
   "outputs": [
    {
     "data": {
      "image/png": "[encoded data removed]",
      "text/plain": [
       "<matplotlib.figure.Figure at 0x7ff0f6a13978>"
      ]
     },
     "metadata": {},
     "output_type": "display_data"
    }
   ],
   "source": [
    "plt.figure(figsize=(12, 4))\n",
    "plt.plot(y_test, label=\"True y\")\n",
    "plt.plot(lr_pred, label=\"Predicted y\")\n",
    "plt.legend()\n",
    "plt.show()"
   ]
  },
  {
   "cell_type": "markdown",
   "metadata": {},
   "source": [
    "At first glance the algorithm performed well - a very high R2 score and both plots look very promising.\n",
    "But we should explore the plot with actual and predicted prices with a closer look. To do that, we will make a plot with \n",
    "Bokeh charting library since it has a \"zoom in\" functionality."
   ]
  },
  {
   "cell_type": "code",
   "execution_count": 23,
   "metadata": {
    "collapsed": false
   },
   "outputs": [
    {
     "data": {
      "text/html": [
       "\n",
       "    <div class=\"bk-root\">\n",
       "        <a href=\"http://bokeh.pydata.org\" target=\"_blank\" class=\"bk-logo bk-logo-small bk-logo-notebook\"></a>\n",
       "        <span id=\"53f89b65-a943-4c4a-97a6-763bdf140128\">Loading BokehJS ...</span>\n",
       "    </div>"
      ]
     },
     "metadata": {},
     "output_type": "display_data"
    },
    {
     "data": {
      "application/javascript": [
       "\n",
       "(function(global) {\n",
       "  function now() {\n",
       "    return new Date();\n",
       "  }\n",
       "\n",
       "  var force = true;\n",
       "\n",
       "  if (typeof (window._bokeh_onload_callbacks) === \"undefined\" || force === true) {\n",
       "    window._bokeh_onload_callbacks = [];\n",
       "    window._bokeh_is_loading = undefined;\n",
       "  }\n",
       "\n",
       "\n",
       "  \n",
       "  if (typeof (window._bokeh_timeout) === \"undefined\" || force === true) {\n",
       "    window._bokeh_timeout = Date.now() + 5000;\n",
       "    window._bokeh_failed_load = false;\n",
       "  }\n",
       "\n",
       "  var NB_LOAD_WARNING = {'data': {'text/html':\n",
       "     \"<div style='background-color: #fdd'>\\n\"+\n",
       "     \"<p>\\n\"+\n",
       "     \"BokehJS does not appear to have successfully loaded. If loading BokehJS from CDN, this \\n\"+\n",
       "     \"may be due to a slow or bad network connection. Possible fixes:\\n\"+\n",
       "     \"</p>\\n\"+\n",
       "     \"<ul>\\n\"+\n",
       "     \"<li>re-rerun `output_notebook()` to attempt to load from CDN again, or</li>\\n\"+\n",
       "     \"<li>use INLINE resources instead, as so:</li>\\n\"+\n",
       "     \"</ul>\\n\"+\n",
       "     \"<code>\\n\"+\n",
       "     \"from bokeh.resources import INLINE\\n\"+\n",
       "     \"output_notebook(resources=INLINE)\\n\"+\n",
       "     \"</code>\\n\"+\n",
       "     \"</div>\"}};\n",
       "\n",
       "  function display_loaded() {\n",
       "    if (window.Bokeh !== undefined) {\n",
       "      document.getElementById(\"53f89b65-a943-4c4a-97a6-763bdf140128\").textContent = \"BokehJS successfully loaded.\";\n",
       "    } else if (Date.now() < window._bokeh_timeout) {\n",
       "      setTimeout(display_loaded, 100)\n",
       "    }\n",
       "  }\n",
       "\n",
       "  function run_callbacks() {\n",
       "    window._bokeh_onload_callbacks.forEach(function(callback) { callback() });\n",
       "    delete window._bokeh_onload_callbacks\n",
       "    console.info(\"Bokeh: all callbacks have finished\");\n",
       "  }\n",
       "\n",
       "  function load_libs(js_urls, callback) {\n",
       "    window._bokeh_onload_callbacks.push(callback);\n",
       "    if (window._bokeh_is_loading > 0) {\n",
       "      console.log(\"Bokeh: BokehJS is being loaded, scheduling callback at\", now());\n",
       "      return null;\n",
       "    }\n",
       "    if (js_urls == null || js_urls.length === 0) {\n",
       "      run_callbacks();\n",
       "      return null;\n",
       "    }\n",
       "    console.log(\"Bokeh: BokehJS not loaded, scheduling load and callback at\", now());\n",
       "    window._bokeh_is_loading = js_urls.length;\n",
       "    for (var i = 0; i < js_urls.length; i++) {\n",
       "      var url = js_urls[i];\n",
       "      var s = document.createElement('script');\n",
       "      s.src = url;\n",
       "      s.async = false;\n",
       "      s.onreadystatechange = s.onload = function() {\n",
       "        window._bokeh_is_loading--;\n",
       "        if (window._bokeh_is_loading === 0) {\n",
       "          console.log(\"Bokeh: all BokehJS libraries loaded\");\n",
       "          run_callbacks()\n",
       "        }\n",
       "      };\n",
       "      s.onerror = function() {\n",
       "        console.warn(\"failed to load library \" + url);\n",
       "      };\n",
       "      console.log(\"Bokeh: injecting script tag for BokehJS library: \", url);\n",
       "      document.getElementsByTagName(\"head\")[0].appendChild(s);\n",
       "    }\n",
       "  };var element = document.getElementById(\"53f89b65-a943-4c4a-97a6-763bdf140128\");\n",
       "  if (element == null) {\n",
       "    console.log(\"Bokeh: ERROR: autoload.js configured with elementid '53f89b65-a943-4c4a-97a6-763bdf140128' but no matching script tag was found. \")\n",
       "    return false;\n",
       "  }\n",
       "\n",
       "  var js_urls = [\"https://cdn.pydata.org/bokeh/release/bokeh-0.12.4.min.js\", \"https://cdn.pydata.org/bokeh/release/bokeh-widgets-0.12.4.min.js\"];\n",
       "\n",
       "  var inline_js = [\n",
       "    function(Bokeh) {\n",
       "      Bokeh.set_log_level(\"info\");\n",
       "    },\n",
       "    \n",
       "    function(Bokeh) {\n",
       "      \n",
       "      document.getElementById(\"53f89b65-a943-4c4a-97a6-763bdf140128\").textContent = \"BokehJS is loading...\";\n",
       "    },\n",
       "    function(Bokeh) {\n",
       "      console.log(\"Bokeh: injecting CSS: https://cdn.pydata.org/bokeh/release/bokeh-0.12.4.min.css\");\n",
       "      Bokeh.embed.inject_css(\"https://cdn.pydata.org/bokeh/release/bokeh-0.12.4.min.css\");\n",
       "      console.log(\"Bokeh: injecting CSS: https://cdn.pydata.org/bokeh/release/bokeh-widgets-0.12.4.min.css\");\n",
       "      Bokeh.embed.inject_css(\"https://cdn.pydata.org/bokeh/release/bokeh-widgets-0.12.4.min.css\");\n",
       "    }\n",
       "  ];\n",
       "\n",
       "  function run_inline_js() {\n",
       "    \n",
       "    if ((window.Bokeh !== undefined) || (force === true)) {\n",
       "      for (var i = 0; i < inline_js.length; i++) {\n",
       "        inline_js[i](window.Bokeh);\n",
       "      }if (force === true) {\n",
       "        display_loaded();\n",
       "      }} else if (Date.now() < window._bokeh_timeout) {\n",
       "      setTimeout(run_inline_js, 100);\n",
       "    } else if (!window._bokeh_failed_load) {\n",
       "      console.log(\"Bokeh: BokehJS failed to load within specified timeout.\");\n",
       "      window._bokeh_failed_load = true;\n",
       "    } else if (force !== true) {\n",
       "      var cell = $(document.getElementById(\"53f89b65-a943-4c4a-97a6-763bdf140128\")).parents('.cell').data().cell;\n",
       "      cell.output_area.append_execute_result(NB_LOAD_WARNING)\n",
       "    }\n",
       "\n",
       "  }\n",
       "\n",
       "  if (window._bokeh_is_loading === 0) {\n",
       "    console.log(\"Bokeh: BokehJS loaded, going straight to plotting\");\n",
       "    run_inline_js();\n",
       "  } else {\n",
       "    load_libs(js_urls, function() {\n",
       "      console.log(\"Bokeh: BokehJS plotting callback run at\", now());\n",
       "      run_inline_js();\n",
       "    });\n",
       "  }\n",
       "}(this));"
      ]
     },
     "metadata": {},
     "output_type": "display_data"
    }
   ],
   "source": [
    "from bokeh.plotting import figure, show, output_notebook\n",
    "output_notebook()"
   ]
  },
  {
   "cell_type": "code",
   "execution_count": 24,
   "metadata": {
    "collapsed": false
   },
   "outputs": [
    {
     "data": {
      "text/html": [
       "\n",
       "\n",
       "    <div class=\"bk-root\">\n",
       "        <div class=\"bk-plotdiv\" id=\"ac6da1c7-0f2b-4c78-813b-2cd2d0774ce3\"></div>\n",
       "    </div>\n",
       "<script type=\"text/javascript\">\n",
       "  \n",
       "  (function(global) {\n",
       "    function now() {\n",
       "      return new Date();\n",
       "    }\n",
       "  \n",
       "    var force = false;\n",
       "  \n",
       "    if (typeof (window._bokeh_onload_callbacks) === \"undefined\" || force === true) {\n",
       "      window._bokeh_onload_callbacks = [];\n",
       "      window._bokeh_is_loading = undefined;\n",
       "    }\n",
       "  \n",
       "  \n",
       "    \n",
       "    if (typeof (window._bokeh_timeout) === \"undefined\" || force === true) {\n",
       "      window._bokeh_timeout = Date.now() + 0;\n",
       "      window._bokeh_failed_load = false;\n",
       "    }\n",
       "  \n",
       "    var NB_LOAD_WARNING = {'data': {'text/html':\n",
       "       \"<div style='background-color: #fdd'>\\n\"+\n",
       "       \"<p>\\n\"+\n",
       "       \"BokehJS does not appear to have successfully loaded. If loading BokehJS from CDN, this \\n\"+\n",
       "       \"may be due to a slow or bad network connection. Possible fixes:\\n\"+\n",
       "       \"</p>\\n\"+\n",
       "       \"<ul>\\n\"+\n",
       "       \"<li>re-rerun `output_notebook()` to attempt to load from CDN again, or</li>\\n\"+\n",
       "       \"<li>use INLINE resources instead, as so:</li>\\n\"+\n",
       "       \"</ul>\\n\"+\n",
       "       \"<code>\\n\"+\n",
       "       \"from bokeh.resources import INLINE\\n\"+\n",
       "       \"output_notebook(resources=INLINE)\\n\"+\n",
       "       \"</code>\\n\"+\n",
       "       \"</div>\"}};\n",
       "  \n",
       "    function display_loaded() {\n",
       "      if (window.Bokeh !== undefined) {\n",
       "        document.getElementById(\"ac6da1c7-0f2b-4c78-813b-2cd2d0774ce3\").textContent = \"BokehJS successfully loaded.\";\n",
       "      } else if (Date.now() < window._bokeh_timeout) {\n",
       "        setTimeout(display_loaded, 100)\n",
       "      }\n",
       "    }\n",
       "  \n",
       "    function run_callbacks() {\n",
       "      window._bokeh_onload_callbacks.forEach(function(callback) { callback() });\n",
       "      delete window._bokeh_onload_callbacks\n",
       "      console.info(\"Bokeh: all callbacks have finished\");\n",
       "    }\n",
       "  \n",
       "    function load_libs(js_urls, callback) {\n",
       "      window._bokeh_onload_callbacks.push(callback);\n",
       "      if (window._bokeh_is_loading > 0) {\n",
       "        console.log(\"Bokeh: BokehJS is being loaded, scheduling callback at\", now());\n",
       "        return null;\n",
       "      }\n",
       "      if (js_urls == null || js_urls.length === 0) {\n",
       "        run_callbacks();\n",
       "        return null;\n",
       "      }\n",
       "      console.log(\"Bokeh: BokehJS not loaded, scheduling load and callback at\", now());\n",
       "      window._bokeh_is_loading = js_urls.length;\n",
       "      for (var i = 0; i < js_urls.length; i++) {\n",
       "        var url = js_urls[i];\n",
       "        var s = document.createElement('script');\n",
       "        s.src = url;\n",
       "        s.async = false;\n",
       "        s.onreadystatechange = s.onload = function() {\n",
       "          window._bokeh_is_loading--;\n",
       "          if (window._bokeh_is_loading === 0) {\n",
       "            console.log(\"Bokeh: all BokehJS libraries loaded\");\n",
       "            run_callbacks()\n",
       "          }\n",
       "        };\n",
       "        s.onerror = function() {\n",
       "          console.warn(\"failed to load library \" + url);\n",
       "        };\n",
       "        console.log(\"Bokeh: injecting script tag for BokehJS library: \", url);\n",
       "        document.getElementsByTagName(\"head\")[0].appendChild(s);\n",
       "      }\n",
       "    };var element = document.getElementById(\"ac6da1c7-0f2b-4c78-813b-2cd2d0774ce3\");\n",
       "    if (element == null) {\n",
       "      console.log(\"Bokeh: ERROR: autoload.js configured with elementid 'ac6da1c7-0f2b-4c78-813b-2cd2d0774ce3' but no matching script tag was found. \")\n",
       "      return false;\n",
       "    }\n",
       "  \n",
       "    var js_urls = [];\n",
       "  \n",
       "    var inline_js = [\n",
       "      function(Bokeh) {\n",
       "        (function() {\n",
       "          var fn = function() {\n",
       "            var docs_json = {\"88914b96-b2db-4d3c-ac96-adff51e0f7b0\":{\"roots\":{\"references\":[{\"attributes\":{\"below\":[{\"id\":\"782d83b2-3f70-40ec-8229-4e56b0209f63\",\"type\":\"LinearAxis\"}],\"left\":[{\"id\":\"aff2b502-65d9-4a92-a1a0-123c093042a6\",\"type\":\"LinearAxis\"}],\"plot_height\":300,\"plot_width\":900,\"renderers\":[{\"id\":\"782d83b2-3f70-40ec-8229-4e56b0209f63\",\"type\":\"LinearAxis\"},{\"id\":\"307e0eab-ece5-4374-a00e-5ce317b662a9\",\"type\":\"Grid\"},{\"id\":\"aff2b502-65d9-4a92-a1a0-123c093042a6\",\"type\":\"LinearAxis\"},{\"id\":\"f854cab0-f1a3-40db-9f78-7ed8e50633bb\",\"type\":\"Grid\"},{\"id\":\"e7c87433-8f75-4af2-817f-b8d40999f670\",\"type\":\"BoxAnnotation\"},{\"id\":\"7aa7df1f-2bb5-4038-95f9-3514e6074ce4\",\"type\":\"Legend\"},{\"id\":\"1c4a37fb-4b42-4bd2-b26a-90971ee1e990\",\"type\":\"GlyphRenderer\"},{\"id\":\"8712671a-d1b7-4b7c-ad94-9a04b97d8134\",\"type\":\"GlyphRenderer\"}],\"title\":{\"id\":\"7e68531a-0f31-48c6-8047-eaea84dc7a1b\",\"type\":\"Title\"},\"tool_events\":{\"id\":\"6a1dff53-e08c-40be-974d-7c973851fe28\",\"type\":\"ToolEvents\"},\"toolbar\":{\"id\":\"600fd103-75ea-4f3b-a394-12263dc2ff0a\",\"type\":\"Toolbar\"},\"x_range\":{\"id\":\"1d87a56f-e6d9-4d63-af24-249f3e5d5931\",\"type\":\"DataRange1d\"},\"y_range\":{\"id\":\"09e1ae0f-32a3-4e2e-b576-bbcb290f209f\",\"type\":\"DataRange1d\"}},\"id\":\"81c4d9cd-06e5-4c2e-b101-e8e47eea7ba3\",\"subtype\":\"Figure\",\"type\":\"Plot\"},{\"attributes\":{},\"id\":\"69fe6858-518f-4006-a372-43e89c06cd3c\",\"type\":\"BasicTickFormatter\"},{\"attributes\":{\"callback\":null,\"column_names\":[\"x\",\"y\"],\"data\":{\"x\":[0,1,2,3,4,5,6,7,8,9,10,11,12,13,14,15,16,17,18,19,20,21,22,23,24,25,26,27,28,29,30,31,32,33,34,35,36,37,38,39,40,41,42,43,44,45,46,47,48,49,50,51,52,53,54,55,56,57,58,59,60,61,62,63,64,65,66,67,68,69,70,71,72,73,74,75,76,77,78,79,80,81,82,83,84,85,86,87,88,89,90,91,92,93,94,95,96,97,98,99,100,101,102,103,104,105,106,107,108,109,110,111,112,113,114,115,116,117,118,119,120,121,122,123,124,125,126,127,128,129,130,131,132,133,134,135,136,137,138,139,140,141,142,143,144,145,146,147,148,149,150,151,152,153,154,155,156,157,158,159,160,161,162,163,164,165,166,167,168,169,170,171,172,173,174,175,176,177,178,179,180,181,182,183,184,185,186,187,188,189,190,191,192,193,194,195,196,197,198,199,200,201,202,203,204,205,206,207,208,209,210,211,212,213,214,215,216,217,218,219,220,221,222,223,224,225,226,227,228,229,230,231,232,233,234,235,236,237,238,239,240,241,242,243,244,245,246,247,248,249,250,251,252,253,254,255,256,257,258,259,260,261,262,263,264,265,266,267,268,269,270,271,272,273,274,275,276,277,278,279,280,281,282,283,284,285,286,287,288,289,290,291,292,293,294,295,296,297,298,299,300,301,302,303,304,305,306,307,308,309,310,311,312,313,314,315,316,317,318,319,320,321,322,323,324,325,326,327,328,329,330,331,332,333,334,335,336,337,338,339,340,341,342,343,344,345,346,347,348,349,350,351,352,353,354,355,356,357,358,359,360,361,362,363,364,365,366,367,368,369,370,371,372,373,374,375,376,377,378,379,380,381,382,383,384,385,386,387,388,389,390,391,392,393,394,395,396,397,398,399,400,401,402,403,404,405,406,407,408,409,410,411,412,413,414,415,416,417,418,419,420,421,422,423,424,425,426,427,428,429,430,431,432,433,434,435,436,437,438,439,440,441,442,443,444,445,446,447,448,449,450,451,452,453,454,455,456,457,458,459,460,461,462,463,464,465,466,467,468,469,470,471,472,473,474,475,476,477,478,479,480,481,482,483,484,485,486,487,488,489,490,491,492,493,494,495,496,497,498,499,500,501,502,503,504,505,506,507,508,509,510,511,512,513,514,515,516,517,518,519,520,521,522,523,524,525,526,527,528,529,530,531,532,533,534,535,536,537,538,539,540,541,542,543,544,545,546,547,548,549],\"y\":{\"__ndarray__\":\"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\",\"dtype\":\"float64\",\"shape\":[550]}}},\"id\":\"7b53cbe2-9d15-41e2-bf03-76e0beae9b2a\",\"type\":\"ColumnDataSource\"},{\"attributes\":{},\"id\":\"6a1dff53-e08c-40be-974d-7c973851fe28\",\"type\":\"ToolEvents\"},{\"attributes\":{\"callback\":null},\"id\":\"1d87a56f-e6d9-4d63-af24-249f3e5d5931\",\"type\":\"DataRange1d\"},{\"attributes\":{\"active_drag\":\"auto\",\"active_scroll\":\"auto\",\"active_tap\":\"auto\",\"tools\":[{\"id\":\"eddf5387-a3f9-44c7-9d05-00c251606ec8\",\"type\":\"PanTool\"},{\"id\":\"c2c3825d-6d53-4b28-9526-9c6168fbdb6b\",\"type\":\"WheelZoomTool\"},{\"id\":\"05e43e7c-cbf1-4c91-90f6-f28ebae76370\",\"type\":\"BoxZoomTool\"},{\"id\":\"19ab4d5b-c6f1-4fac-b830-325b8001de6b\",\"type\":\"SaveTool\"},{\"id\":\"b567a667-ba92-47bc-8106-70e8ccee4cef\",\"type\":\"ResetTool\"},{\"id\":\"7dcf691f-9106-44d8-a6e4-db9bdfc02a50\",\"type\":\"HelpTool\"}]},\"id\":\"600fd103-75ea-4f3b-a394-12263dc2ff0a\",\"type\":\"Toolbar\"},{\"attributes\":{\"plot\":{\"id\":\"81c4d9cd-06e5-4c2e-b101-e8e47eea7ba3\",\"subtype\":\"Figure\",\"type\":\"Plot\"},\"ticker\":{\"id\":\"dba6fe13-728f-4baf-8cd3-46b525b70874\",\"type\":\"BasicTicker\"}},\"id\":\"307e0eab-ece5-4374-a00e-5ce317b662a9\",\"type\":\"Grid\"},{\"attributes\":{\"formatter\":{\"id\":\"69fe6858-518f-4006-a372-43e89c06cd3c\",\"type\":\"BasicTickFormatter\"},\"plot\":{\"id\":\"81c4d9cd-06e5-4c2e-b101-e8e47eea7ba3\",\"subtype\":\"Figure\",\"type\":\"Plot\"},\"ticker\":{\"id\":\"b04d6379-6254-4b22-8c8a-d7b04282b057\",\"type\":\"BasicTicker\"}},\"id\":\"aff2b502-65d9-4a92-a1a0-123c093042a6\",\"type\":\"LinearAxis\"},{\"attributes\":{},\"id\":\"b04d6379-6254-4b22-8c8a-d7b04282b057\",\"type\":\"BasicTicker\"},{\"attributes\":{\"dimension\":1,\"plot\":{\"id\":\"81c4d9cd-06e5-4c2e-b101-e8e47eea7ba3\",\"subtype\":\"Figure\",\"type\":\"Plot\"},\"ticker\":{\"id\":\"b04d6379-6254-4b22-8c8a-d7b04282b057\",\"type\":\"BasicTicker\"}},\"id\":\"f854cab0-f1a3-40db-9f78-7ed8e50633bb\",\"type\":\"Grid\"},{\"attributes\":{\"bottom_units\":\"screen\",\"fill_alpha\":{\"value\":0.5},\"fill_color\":{\"value\":\"lightgrey\"},\"left_units\":\"screen\",\"level\":\"overlay\",\"line_alpha\":{\"value\":1.0},\"line_color\":{\"value\":\"black\"},\"line_dash\":[4,4],\"line_width\":{\"value\":2},\"plot\":null,\"render_mode\":\"css\",\"right_units\":\"screen\",\"top_units\":\"screen\"},\"id\":\"e7c87433-8f75-4af2-817f-b8d40999f670\",\"type\":\"BoxAnnotation\"},{\"attributes\":{\"callback\":null,\"column_names\":[\"x\",\"y\"],\"data\":{\"x\":[0,1,2,3,4,5,6,7,8,9,10,11,12,13,14,15,16,17,18,19,20,21,22,23,24,25,26,27,28,29,30,31,32,33,34,35,36,37,38,39,40,41,42,43,44,45,46,47,48,49,50,51,52,53,54,55,56,57,58,59,60,61,62,63,64,65,66,67,68,69,70,71,72,73,74,75,76,77,78,79,80,81,82,83,84,85,86,87,88,89,90,91,92,93,94,95,96,97,98,99,100,101,102,103,104,105,106,107,108,109,110,111,112,113,114,115,116,117,118,119,120,121,122,123,124,125,126,127,128,129,130,131,132,133,134,135,136,137,138,139,140,141,142,143,144,145,146,147,148,149,150,151,152,153,154,155,156,157,158,159,160,161,162,163,164,165,166,167,168,169,170,171,172,173,174,175,176,177,178,179,180,181,182,183,184,185,186,187,188,189,190,191,192,193,194,195,196,197,198,199,200,201,202,203,204,205,206,207,208,209,210,211,212,213,214,215,216,217,218,219,220,221,222,223,224,225,226,227,228,229,230,231,232,233,234,235,236,237,238,239,240,241,242,243,244,245,246,247,248,249,250,251,252,253,254,255,256,257,258,259,260,261,262,263,264,265,266,267,268,269,270,271,272,273,274,275,276,277,278,279,280,281,282,283,284,285,286,287,288,289,290,291,292,293,294,295,296,297,298,299,300,301,302,303,304,305,306,307,308,309,310,311,312,313,314,315,316,317,318,319,320,321,322,323,324,325,326,327,328,329,330,331,332,333,334,335,336,337,338,339,340,341,342,343,344,345,346,347,348,349,350,351,352,353,354,355,356,357,358,359,360,361,362,363,364,365,366,367,368,369,370,371,372,373,374,375,376,377,378,379,380,381,382,383,384,385,386,387,388,389,390,391,392,393,394,395,396,397,398,399,400,401,402,403,404,405,406,407,408,409,410,411,412,413,414,415,416,417,418,419,420,421,422,423,424,425,426,427,428,429,430,431,432,433,434,435,436,437,438,439,440,441,442,443,444,445,446,447,448,449,450,451,452,453,454,455,456,457,458,459,460,461,462,463,464,465,466,467,468,469,470,471,472,473,474,475,476,477,478,479,480,481,482,483,484,485,486,487,488,489,490,491,492,493,494,495,496,497,498,499,500,501,502,503,504,505,506,507,508,509,510,511,512,513,514,515,516,517,518,519,520,521,522,523,524,525,526,527,528,529,530,531,532,533,534,535,536,537,538,539,540,541,542,543,544,545,546,547,548,549],\"y\":{\"__ndarray__\":\"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\",\"dtype\":\"float64\",\"shape\":[550]}}},\"id\":\"56109f24-acc1-4952-8236-01420183484f\",\"type\":\"ColumnDataSource\"},{\"attributes\":{\"plot\":{\"id\":\"81c4d9cd-06e5-4c2e-b101-e8e47eea7ba3\",\"subtype\":\"Figure\",\"type\":\"Plot\"}},\"id\":\"eddf5387-a3f9-44c7-9d05-00c251606ec8\",\"type\":\"PanTool\"},{\"attributes\":{\"plot\":{\"id\":\"81c4d9cd-06e5-4c2e-b101-e8e47eea7ba3\",\"subtype\":\"Figure\",\"type\":\"Plot\"}},\"id\":\"b567a667-ba92-47bc-8106-70e8ccee4cef\",\"type\":\"ResetTool\"},{\"attributes\":{\"plot\":{\"id\":\"81c4d9cd-06e5-4c2e-b101-e8e47eea7ba3\",\"subtype\":\"Figure\",\"type\":\"Plot\"}},\"id\":\"c2c3825d-6d53-4b28-9526-9c6168fbdb6b\",\"type\":\"WheelZoomTool\"},{\"attributes\":{\"items\":[{\"id\":\"5fdc684f-574f-4c60-aa76-17a09c6e4708\",\"type\":\"LegendItem\"},{\"id\":\"277bf7da-667f-4cfa-a0ac-3a663c5aadc3\",\"type\":\"LegendItem\"}],\"location\":\"top_left\",\"plot\":{\"id\":\"81c4d9cd-06e5-4c2e-b101-e8e47eea7ba3\",\"subtype\":\"Figure\",\"type\":\"Plot\"}},\"id\":\"7aa7df1f-2bb5-4038-95f9-3514e6074ce4\",\"type\":\"Legend\"},{\"attributes\":{\"overlay\":{\"id\":\"e7c87433-8f75-4af2-817f-b8d40999f670\",\"type\":\"BoxAnnotation\"},\"plot\":{\"id\":\"81c4d9cd-06e5-4c2e-b101-e8e47eea7ba3\",\"subtype\":\"Figure\",\"type\":\"Plot\"}},\"id\":\"05e43e7c-cbf1-4c91-90f6-f28ebae76370\",\"type\":\"BoxZoomTool\"},{\"attributes\":{\"formatter\":{\"id\":\"59280e66-75f0-4e2a-93d8-b77a0f22f29e\",\"type\":\"BasicTickFormatter\"},\"plot\":{\"id\":\"81c4d9cd-06e5-4c2e-b101-e8e47eea7ba3\",\"subtype\":\"Figure\",\"type\":\"Plot\"},\"ticker\":{\"id\":\"dba6fe13-728f-4baf-8cd3-46b525b70874\",\"type\":\"BasicTicker\"}},\"id\":\"782d83b2-3f70-40ec-8229-4e56b0209f63\",\"type\":\"LinearAxis\"},{\"attributes\":{},\"id\":\"59280e66-75f0-4e2a-93d8-b77a0f22f29e\",\"type\":\"BasicTickFormatter\"},{\"attributes\":{\"plot\":{\"id\":\"81c4d9cd-06e5-4c2e-b101-e8e47eea7ba3\",\"subtype\":\"Figure\",\"type\":\"Plot\"}},\"id\":\"19ab4d5b-c6f1-4fac-b830-325b8001de6b\",\"type\":\"SaveTool\"},{\"attributes\":{\"plot\":{\"id\":\"81c4d9cd-06e5-4c2e-b101-e8e47eea7ba3\",\"subtype\":\"Figure\",\"type\":\"Plot\"}},\"id\":\"7dcf691f-9106-44d8-a6e4-db9bdfc02a50\",\"type\":\"HelpTool\"},{\"attributes\":{\"line_alpha\":{\"value\":0.1},\"line_color\":{\"value\":\"#1f77b4\"},\"line_width\":{\"value\":2},\"x\":{\"field\":\"x\"},\"y\":{\"field\":\"y\"}},\"id\":\"ec749808-88e5-4a61-bcab-679bc02659fc\",\"type\":\"Line\"},{\"attributes\":{},\"id\":\"dba6fe13-728f-4baf-8cd3-46b525b70874\",\"type\":\"BasicTicker\"},{\"attributes\":{\"label\":{\"value\":\"True price\"},\"renderers\":[{\"id\":\"1c4a37fb-4b42-4bd2-b26a-90971ee1e990\",\"type\":\"GlyphRenderer\"}]},\"id\":\"5fdc684f-574f-4c60-aa76-17a09c6e4708\",\"type\":\"LegendItem\"},{\"attributes\":{\"line_color\":{\"value\":\"red\"},\"line_width\":{\"value\":2},\"x\":{\"field\":\"x\"},\"y\":{\"field\":\"y\"}},\"id\":\"a585e7ae-b6c2-4884-8609-3879b1d63a9f\",\"type\":\"Line\"},{\"attributes\":{\"label\":{\"value\":\"Predicted price\"},\"renderers\":[{\"id\":\"8712671a-d1b7-4b7c-ad94-9a04b97d8134\",\"type\":\"GlyphRenderer\"}]},\"id\":\"277bf7da-667f-4cfa-a0ac-3a663c5aadc3\",\"type\":\"LegendItem\"},{\"attributes\":{\"data_source\":{\"id\":\"56109f24-acc1-4952-8236-01420183484f\",\"type\":\"ColumnDataSource\"},\"glyph\":{\"id\":\"a585e7ae-b6c2-4884-8609-3879b1d63a9f\",\"type\":\"Line\"},\"hover_glyph\":null,\"nonselection_glyph\":{\"id\":\"ec749808-88e5-4a61-bcab-679bc02659fc\",\"type\":\"Line\"},\"selection_glyph\":null},\"id\":\"8712671a-d1b7-4b7c-ad94-9a04b97d8134\",\"type\":\"GlyphRenderer\"},{\"attributes\":{\"plot\":null,\"text\":\"\"},\"id\":\"7e68531a-0f31-48c6-8047-eaea84dc7a1b\",\"type\":\"Title\"},{\"attributes\":{\"data_source\":{\"id\":\"7b53cbe2-9d15-41e2-bf03-76e0beae9b2a\",\"type\":\"ColumnDataSource\"},\"glyph\":{\"id\":\"5585b46b-a140-40c4-8713-faa2e8ce96d7\",\"type\":\"Line\"},\"hover_glyph\":null,\"nonselection_glyph\":{\"id\":\"85525c7b-f912-4f0b-8e57-7f9b023e4c83\",\"type\":\"Line\"},\"selection_glyph\":null},\"id\":\"1c4a37fb-4b42-4bd2-b26a-90971ee1e990\",\"type\":\"GlyphRenderer\"},{\"attributes\":{\"callback\":null},\"id\":\"09e1ae0f-32a3-4e2e-b576-bbcb290f209f\",\"type\":\"DataRange1d\"},{\"attributes\":{\"line_color\":{\"value\":\"#1f77b4\"},\"line_width\":{\"value\":2},\"x\":{\"field\":\"x\"},\"y\":{\"field\":\"y\"}},\"id\":\"5585b46b-a140-40c4-8713-faa2e8ce96d7\",\"type\":\"Line\"},{\"attributes\":{\"line_alpha\":{\"value\":0.1},\"line_color\":{\"value\":\"#1f77b4\"},\"line_width\":{\"value\":2},\"x\":{\"field\":\"x\"},\"y\":{\"field\":\"y\"}},\"id\":\"85525c7b-f912-4f0b-8e57-7f9b023e4c83\",\"type\":\"Line\"}],\"root_ids\":[\"81c4d9cd-06e5-4c2e-b101-e8e47eea7ba3\"]},\"title\":\"Bokeh Application\",\"version\":\"0.12.4\"}};\n",
       "            var render_items = [{\"docid\":\"88914b96-b2db-4d3c-ac96-adff51e0f7b0\",\"elementid\":\"ac6da1c7-0f2b-4c78-813b-2cd2d0774ce3\",\"modelid\":\"81c4d9cd-06e5-4c2e-b101-e8e47eea7ba3\"}];\n",
       "            \n",
       "            Bokeh.embed.embed_items(docs_json, render_items);\n",
       "          };\n",
       "          if (document.readyState != \"loading\") fn();\n",
       "          else document.addEventListener(\"DOMContentLoaded\", fn);\n",
       "        })();\n",
       "      },\n",
       "      function(Bokeh) {\n",
       "      }\n",
       "    ];\n",
       "  \n",
       "    function run_inline_js() {\n",
       "      \n",
       "      if ((window.Bokeh !== undefined) || (force === true)) {\n",
       "        for (var i = 0; i < inline_js.length; i++) {\n",
       "          inline_js[i](window.Bokeh);\n",
       "        }if (force === true) {\n",
       "          display_loaded();\n",
       "        }} else if (Date.now() < window._bokeh_timeout) {\n",
       "        setTimeout(run_inline_js, 100);\n",
       "      } else if (!window._bokeh_failed_load) {\n",
       "        console.log(\"Bokeh: BokehJS failed to load within specified timeout.\");\n",
       "        window._bokeh_failed_load = true;\n",
       "      } else if (force !== true) {\n",
       "        var cell = $(document.getElementById(\"ac6da1c7-0f2b-4c78-813b-2cd2d0774ce3\")).parents('.cell').data().cell;\n",
       "        cell.output_area.append_execute_result(NB_LOAD_WARNING)\n",
       "      }\n",
       "  \n",
       "    }\n",
       "  \n",
       "    if (window._bokeh_is_loading === 0) {\n",
       "      console.log(\"Bokeh: BokehJS loaded, going straight to plotting\");\n",
       "      run_inline_js();\n",
       "    } else {\n",
       "      load_libs(js_urls, function() {\n",
       "        console.log(\"Bokeh: BokehJS plotting callback run at\", now());\n",
       "        run_inline_js();\n",
       "      });\n",
       "    }\n",
       "  }(this));\n",
       "</script>"
      ]
     },
     "metadata": {},
     "output_type": "display_data"
    }
   ],
   "source": [
    "f = figure(width=900, height=300)\n",
    "f.line(np.arange(y_test.size),y_test, line_width=2, legend=\"True price\")\n",
    "f.line(np.arange(y_test.size),lr_pred.flatten(), color='red', line_width=2, legend=\"Predicted price\")\n",
    "f.legend.location = 'top_left'\n",
    "show(f)"
   ]
  },
  {
   "cell_type": "markdown",
   "metadata": {},
   "source": [
    "If you zoom in with \"zoom box\" tool at any regoin you will see that despite the predicted price is very close to\n",
    "a real price, they have different directions. For example, tomorrow's price goes up relative today's price,\n",
    "but the predicted tomorrow's price goes down. There is a difference in a trend. So, to get a clear picture about\n",
    "the performace of LR, we will use the predicted prices as inputs for a UP/DOWN converter to figure out how many prices have wrong direction."
   ]
  },
  {
   "cell_type": "code",
   "execution_count": 25,
   "metadata": {
    "collapsed": false
   },
   "outputs": [],
   "source": [
    "# Calculating the differences in real and predicted prices (test set)\n",
    "\n",
    "def lr_accuracy(array_1, array_2):\n",
    "    # Check if both arrays have the right shape\n",
    "    for i in [array_1, array_2]:\n",
    "        if len(i.shape) > 1:\n",
    "            print(array_1.shape, array_2.shape)\n",
    "            print(\"Shape is wrong. Use .flatten()\")\n",
    "    # Create a diff array\n",
    "    array_1_diff = np.diff(array_1)\n",
    "    array_2_diff = np.diff(array_2)\n",
    "    # Convert into -1 (down) and 1 (up)\n",
    "    array_1_class = np.where(array_1_diff > 0, 1, -1)\n",
    "    array_2_class = np.where(array_2_diff > 0, 1, -1)\n",
    "    \n",
    "    return accuracy_score(array_1_class, array_2_class).round(4)\n"
   ]
  },
  {
   "cell_type": "code",
   "execution_count": 26,
   "metadata": {
    "collapsed": false
   },
   "outputs": [
    {
     "name": "stdout",
     "output_type": "stream",
     "text": [
      "Accurary is 0.5701\n"
     ]
    }
   ],
   "source": [
    "print(\"Accurary is\", lr_accuracy(y_test, lr_pred.flatten()))"
   ]
  },
  {
   "cell_type": "markdown",
   "metadata": {},
   "source": [
    "As you see, the accuracy is quite low but we need to keep in mind that we used 548 values(days). Since our goal is to create a\n",
    "short-term predictor (3-15 days) we will decrease the size of the sample before calculating the accuracy"
   ]
  },
  {
   "cell_type": "code",
   "execution_count": 27,
   "metadata": {
    "collapsed": false
   },
   "outputs": [
    {
     "name": "stdout",
     "output_type": "stream",
     "text": [
      "3 days accuracy is 1.0\n",
      "5 days accuracy is 1.0\n",
      "7 days accuracy is 1.0\n",
      "10 days accuracy is 0.8\n",
      "15 days accuracy is 0.6667\n"
     ]
    }
   ],
   "source": [
    "days = [3, 5, 7, 10, 15]\n",
    "\n",
    "for day in days:\n",
    "    acc = lr_accuracy(y_test[:day +1], lr_pred.flatten()[:day + 1])\n",
    "    print(\"{} days accuracy is {}\".format(day, acc))"
   ]
  },
  {
   "cell_type": "markdown",
   "metadata": {},
   "source": [
    "This time the results are much better. The accuracy for 3, 5, 7, 10 days is ranging from 80% to 100%."
   ]
  },
  {
   "cell_type": "markdown",
   "metadata": {},
   "source": [
    "### Building a simple  user interface\n",
    "\n",
    "In this project I used the stock prices of Amazon but a user can use any other company. Also, three time periods(they are commented out in the cell below) will be tested to check the performance of the system. A user can choose some other time periods."
   ]
  },
  {
   "cell_type": "code",
   "execution_count": 28,
   "metadata": {
    "collapsed": true
   },
   "outputs": [],
   "source": [
    "ticker = \"AMZN\"\n",
    "start_date = \"2016-01-04\" #\"2010-01-05\", \"2014-01-02\", \"2016-01-04\"\n",
    "end_date = \"2017-01-03\"   #\"2015-01-02\", \"2016-01-04\", \"2017-01-03\"\n",
    "days = [3, 5, 7, 10, 15]"
   ]
  },
  {
   "cell_type": "code",
   "execution_count": 29,
   "metadata": {
    "collapsed": false
   },
   "outputs": [
    {
     "name": "stdout",
     "output_type": "stream",
     "text": [
      "3 days accuracy is 1.0\n",
      "5 days accuracy is 1.0\n",
      "7 days accuracy is 0.8571\n",
      "10 days accuracy is 0.8\n",
      "15 days accuracy is 0.7333\n"
     ]
    }
   ],
   "source": [
    "from sklearn.linear_model import LinearRegression\n",
    "from sklearn.metrics import r2_score, mean_squared_error, accuracy_score\n",
    "\n",
    "df = web.DataReader(ticker, \"yahoo\")\n",
    "\n",
    "def check_date():\n",
    "    \"\"\"Check if the date in \"\"\"\n",
    "    if start_date not in df.index:\n",
    "        print(\"Start date was not found, please choose another date\")\n",
    "        return None\n",
    "    elif end_date not in df.index:\n",
    "        print(\"End date was not found, please choose another date\")\n",
    "        return None\n",
    "    else:\n",
    "        return True\n",
    "\n",
    "if check_date():\n",
    "    start_index = df.index.get_loc(start_date)\n",
    "    end_index = df.index.get_loc(end_date)\n",
    "\n",
    "    o_c = df[[\"Open\", \"Adj Close\"]]\n",
    "\n",
    "    train_df = o_c.ix[start_index:end_index]\n",
    "    test_df = o_c.ix[end_index:end_index + 16]\n",
    "\n",
    "    x_train, x_test = train_df.Open.values, test_df.Open.values\n",
    "    y_train, y_test = train_df[\"Adj Close\"].values, test_df[\"Adj Close\"].values\n",
    "\n",
    "    lr = LinearRegression()\n",
    "    lr.fit(x_train.reshape(-1, 1), y_train.reshape(-1, 1))\n",
    "    lr_pred = lr.predict(x_test.reshape(-1, 1))\n",
    "\n",
    "    def lr_accuracy(array_1, array_2):\n",
    "        # Check if both arrays have the right shape\n",
    "        for i in [array_1, array_2]:\n",
    "            if len(i.shape) > 1:\n",
    "                print(array_1.shape, array_2.shape)\n",
    "                print(\"Shape is wrong. Use .flatten()\")\n",
    "        # Create a diff array\n",
    "        array_1_diff = np.diff(array_1)\n",
    "        array_2_diff = np.diff(array_2)\n",
    "        # Convert into -1 (down) and 1 (up)\n",
    "        array_1_class = np.where(array_1_diff > 0, 1, -1)\n",
    "        array_2_class = np.where(array_2_diff > 0, 1, -1)\n",
    "\n",
    "        return accuracy_score(array_1_class, array_2_class).round(4)\n",
    "\n",
    "    lr_accuracy(y_test, lr_pred.flatten())\n",
    "\n",
    "    for day in days:\n",
    "        acc = lr_accuracy(y_test[:day +1], lr_pred.flatten()[:day + 1])\n",
    "        print(\"{} days accuracy is {}\".format(day, acc))"
   ]
  },
  {
   "cell_type": "markdown",
   "metadata": {},
   "source": [
    "<center>**Accuracy table for a short-term (3-15 days) forecasting**</center>\n",
    "\n",
    "|Period\t   | 3 days| 5 days| 7 days| 10 days| 15 days|\n",
    "|----------|-------|-------|-------|--------|--------|\n",
    "|2010-2015 | 0.66  | 0.6   | 0.57  | 0.5  \t| 0.46   |\n",
    "|2014-2016 | 1.0   | 0.8   | 0.85  | 0.8  \t| 0.86   |\n",
    "|2016-2017 | 1.0   | 1.0   | 0.85  | 0.8    | 0.73   |\n",
    "\n"
   ]
  },
  {
   "cell_type": "code",
   "execution_count": 30,
   "metadata": {
    "collapsed": false
   },
   "outputs": [
    {
     "data": {
      "image/png": "[encoded data removed]",
      "text/plain": [
       "<matplotlib.figure.Figure at 0x7ff0f5d6c128>"
      ]
     },
     "metadata": {},
     "output_type": "display_data"
    }
   ],
   "source": [
    "# Visualizing accuracy table\n",
    "\n",
    "from collections import defaultdict\n",
    "\n",
    "d = defaultdict()\n",
    "d[\"2010-2015\"] = [0.66, 0.6, 0.57, 0.5, 0.46]\n",
    "d[\"2014-2016\"] = [1.0, 0.8, 0.85, 0.8, 0.86]\n",
    "d['2016-2017'] = [1.0, 1.0, 0.85, 0.8, 0.73]\n",
    "\n",
    "acc_table = pd.DataFrame(d, index=['3 days', \"5 days\", '7 days', \"10 days\", \"15 days\"])\n",
    "acc_table.plot(kind='bar', ylim=(0, 1.2), alpha=0.9, title=\"Method 1, Accuracy plot\")\n",
    "plt.show()"
   ]
  },
  {
   "cell_type": "markdown",
   "metadata": {},
   "source": [
    "### Conclusion for this part"
   ]
  },
  {
   "cell_type": "markdown",
   "metadata": {
    "collapsed": true
   },
   "source": [
    "Although Linear Regression (LR) model shows good results based on R2_score and RMSE metrics, those results are not sutable to detect the trend of the market correcly. On the other hand, the outcome from LR model can be used as inputs for a binary problem in order to detect the movement of the price for the next day. Results show that classification gives much better results when training period is 1 and 2 years.Further improvements may include a wider range of features, for example, volume of shares and some technical indicators as well as testing several other regression models."
   ]
  }
 ],
 "metadata": {
  "kernelspec": {
   "display_name": "Python 3",
   "language": "python",
   "name": "python3"
  },
  "language_info": {
   "codemirror_mode": {
    "name": "ipython",
    "version": 3
   },
   "file_extension": ".py",
   "mimetype": "text/x-python",
   "name": "python",
   "nbconvert_exporter": "python",
   "pygments_lexer": "ipython3",
   "version": "3.6.0"
  }
 },
 "nbformat": 4,
 "nbformat_minor": 2
}
